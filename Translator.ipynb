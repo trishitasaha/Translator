{
 "cells": [
  {
   "cell_type": "code",
   "execution_count": 2,
   "metadata": {
    "scrolled": true
   },
   "outputs": [
    {
     "name": "stdout",
     "output_type": "stream",
     "text": [
      "Collecting googletrans==3.1.0a0\n",
      "  Downloading https://files.pythonhosted.org/packages/19/3d/4e3a1609bf52f2f7b00436cc751eb977e27040665dde2bd57e7152989672/googletrans-3.1.0a0.tar.gz\n",
      "Requirement already satisfied: httpx==0.13.3 in c:\\users\\trishita\\appdata\\local\\continuum\\anaconda3\\lib\\site-packages (from googletrans==3.1.0a0) (0.13.3)\n",
      "Requirement already satisfied: idna==2.* in c:\\users\\trishita\\appdata\\local\\continuum\\anaconda3\\lib\\site-packages (from httpx==0.13.3->googletrans==3.1.0a0) (2.8)\n",
      "Requirement already satisfied: certifi in c:\\users\\trishita\\appdata\\local\\continuum\\anaconda3\\lib\\site-packages (from httpx==0.13.3->googletrans==3.1.0a0) (2019.9.11)\n",
      "Requirement already satisfied: hstspreload in c:\\users\\trishita\\appdata\\local\\continuum\\anaconda3\\lib\\site-packages (from httpx==0.13.3->googletrans==3.1.0a0) (2020.11.21)\n",
      "Requirement already satisfied: rfc3986<2,>=1.3 in c:\\users\\trishita\\appdata\\local\\continuum\\anaconda3\\lib\\site-packages (from httpx==0.13.3->googletrans==3.1.0a0) (1.4.0)\n",
      "Requirement already satisfied: httpcore==0.9.* in c:\\users\\trishita\\appdata\\local\\continuum\\anaconda3\\lib\\site-packages (from httpx==0.13.3->googletrans==3.1.0a0) (0.9.1)\n",
      "Requirement already satisfied: chardet==3.* in c:\\users\\trishita\\appdata\\local\\continuum\\anaconda3\\lib\\site-packages (from httpx==0.13.3->googletrans==3.1.0a0) (3.0.4)\n",
      "Requirement already satisfied: sniffio in c:\\users\\trishita\\appdata\\local\\continuum\\anaconda3\\lib\\site-packages (from httpx==0.13.3->googletrans==3.1.0a0) (1.2.0)\n",
      "Requirement already satisfied: h2==3.* in c:\\users\\trishita\\appdata\\local\\continuum\\anaconda3\\lib\\site-packages (from httpcore==0.9.*->httpx==0.13.3->googletrans==3.1.0a0) (3.2.0)\n",
      "Requirement already satisfied: h11<0.10,>=0.8 in c:\\users\\trishita\\appdata\\local\\continuum\\anaconda3\\lib\\site-packages (from httpcore==0.9.*->httpx==0.13.3->googletrans==3.1.0a0) (0.9.0)\n",
      "Requirement already satisfied: hpack<4,>=3.0 in c:\\users\\trishita\\appdata\\local\\continuum\\anaconda3\\lib\\site-packages (from h2==3.*->httpcore==0.9.*->httpx==0.13.3->googletrans==3.1.0a0) (3.0.0)\n",
      "Requirement already satisfied: hyperframe<6,>=5.2.0 in c:\\users\\trishita\\appdata\\local\\continuum\\anaconda3\\lib\\site-packages (from h2==3.*->httpcore==0.9.*->httpx==0.13.3->googletrans==3.1.0a0) (5.2.0)\n",
      "Building wheels for collected packages: googletrans\n",
      "  Building wheel for googletrans (setup.py): started\n",
      "  Building wheel for googletrans (setup.py): finished with status 'done'\n",
      "  Created wheel for googletrans: filename=googletrans-3.1.0a0-cp37-none-any.whl size=16374 sha256=bd51cf9d27688320fb8d4d44f53edd5ef7de78301b19976531a5819422fab182\n",
      "  Stored in directory: C:\\Users\\Trishita\\AppData\\Local\\pip\\Cache\\wheels\\27\\7a\\a0\\aff3babbb775549ce6813cb8fa7ff3c0848c4dc62c20f8fdac\n",
      "Successfully built googletrans\n",
      "Installing collected packages: googletrans\n",
      "  Found existing installation: googletrans 3.0.0\n",
      "    Uninstalling googletrans-3.0.0:\n",
      "      Successfully uninstalled googletrans-3.0.0\n",
      "Successfully installed googletrans-3.1.0a0\n",
      "Note: you may need to restart the kernel to use updated packages.\n"
     ]
    }
   ],
   "source": [
    "pip install googletrans==3.1.0a0"
   ]
  },
  {
   "cell_type": "code",
   "execution_count": 1,
   "metadata": {},
   "outputs": [],
   "source": [
    "from tkinter import *\n",
    "from tkinter import ttk\n",
    "from googletrans import Translator, LANGUAGES"
   ]
  },
  {
   "cell_type": "code",
   "execution_count": 2,
   "metadata": {},
   "outputs": [],
   "source": [
    "root = Tk()\n",
    "root.geometry('1080x400')\n",
    "root.resizable(0,0)\n",
    "root.config(bg = 'orange')"
   ]
  },
  {
   "cell_type": "code",
   "execution_count": 3,
   "metadata": {},
   "outputs": [],
   "source": [
    "root.title(\"Translator for tourists\")\n",
    "Label(root, text = \"Translator\", font = \"times_new_roman 35 bold\", bg='yellow').pack()\n",
    "Label(root,text =\"Hope you enjoy\", font = 'times_new_roman 15 bold', bg ='yellow' , width = '20').pack(side = 'bottom')"
   ]
  },
  {
   "cell_type": "code",
   "execution_count": 4,
   "metadata": {},
   "outputs": [],
   "source": [
    "Label(root,text =\"Input\", font = 'times_new_roman 13 bold', bg ='white smoke').place(x=200,y=60)\n",
    "Input_text = Text(root,font = 'times_new_roman 10', height = 11, wrap = WORD, padx=5, pady=5, width = 60)\n",
    "Input_text.place(x=30,y = 100)\n",
    "Label(root,text =\"Output\", font = 'times_new_roman 13 bold', bg ='white smoke').place(x=780,y=60)\n",
    "Output_text = Text(root,font = 'arial 10', height = 11, wrap = WORD, padx=5, pady= 5, width =60)\n",
    "Output_text.place(x = 600 , y = 100)"
   ]
  },
  {
   "cell_type": "code",
   "execution_count": 5,
   "metadata": {},
   "outputs": [],
   "source": [
    "language = list(LANGUAGES.values())\n",
    "src_lang = ttk.Combobox(root, values= language, width =22)\n",
    "src_lang.place(x=20,y=60)\n",
    "src_lang.set('Choose input language')\n",
    "dest_lang = ttk.Combobox(root, values= language, width =22)\n",
    "dest_lang.place(x=890,y=60)\n",
    "dest_lang.set('Choose output language')"
   ]
  },
  {
   "cell_type": "code",
   "execution_count": 6,
   "metadata": {},
   "outputs": [],
   "source": [
    "def Translate():\n",
    "    translator = Translator()\n",
    "    translated=translator.translate(text= Input_text.get(1.0, END) , src = src_lang.get(), dest = dest_lang.get())\n",
    "    Output_text.delete(1.0, END)\n",
    "    Output_text.insert(END, translated.text)"
   ]
  },
  {
   "cell_type": "code",
   "execution_count": 7,
   "metadata": {},
   "outputs": [],
   "source": [
    "trans_btn = Button(root, text = 'Translate',font = 'times_new_roman 12 bold',pady = 5,command = Translate , bg = 'royal blue1', activebackground = 'sky blue')\n",
    "trans_btn.place(x = 490, y= 180 )\n",
    "root.mainloop()"
   ]
  },
  {
   "cell_type": "code",
   "execution_count": null,
   "metadata": {},
   "outputs": [],
   "source": []
  }
 ],
 "metadata": {
  "kernelspec": {
   "display_name": "Python 3",
   "language": "python",
   "name": "python3"
  },
  "language_info": {
   "codemirror_mode": {
    "name": "ipython",
    "version": 3
   },
   "file_extension": ".py",
   "mimetype": "text/x-python",
   "name": "python",
   "nbconvert_exporter": "python",
   "pygments_lexer": "ipython3",
   "version": "3.7.4"
  }
 },
 "nbformat": 4,
 "nbformat_minor": 2
}
